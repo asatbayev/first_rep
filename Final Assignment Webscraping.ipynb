{
    "cells": [
        {
            "metadata": {},
            "cell_type": "markdown",
            "source": "<center>\n    <img src=\"https://s3-api.us-geo.objectstorage.softlayer.net/cf-courses-data/CognitiveClass/Logos/organization_logo/organization_logo.png\" width=\"300\" alt=\"cognitiveclass.ai logo\"  />\n</center>\n"
        },
        {
            "metadata": {},
            "cell_type": "markdown",
            "source": "<h1>Extracting Stock Data Using a Web Scraping</h1>\n"
        },
        {
            "metadata": {},
            "cell_type": "markdown",
            "source": "Not all stock data is available via API in this assignment; you will use web-scraping to obtain financial data. You will be quizzed on your results.\\\nUsing beautiful soup we will extract historical share data from a web-page.\n"
        },
        {
            "metadata": {},
            "cell_type": "markdown",
            "source": "<h2>Table of Contents</h2>\n<div class=\"alert alert-block alert-info\" style=\"margin-top: 20px\">\n    <ul>\n        <li>Downloading the Webpage Using Requests Library</li>\n        <li>Parsing Webpage HTML Using BeautifulSoup</li>\n        <li>Extracting Data and Building DataFrame</li>\n    </ul>\n<p>\n    Estimated Time Needed: <strong>30 min</strong></p>\n</div>\n\n<hr>\n"
        },
        {
            "metadata": {},
            "cell_type": "code",
            "source": "#!pip install pandas\n#!pip install requests\n!pip install bs4\n#!pip install plotly",
            "execution_count": 1,
            "outputs": [
                {
                    "output_type": "stream",
                    "text": "/opt/conda/envs/Python-3.7-main/lib/python3.7/site-packages/secretstorage/dhcrypto.py:16: CryptographyDeprecationWarning: int_from_bytes is deprecated, use int.from_bytes instead\n  from cryptography.utils import int_from_bytes\n/opt/conda/envs/Python-3.7-main/lib/python3.7/site-packages/secretstorage/util.py:25: CryptographyDeprecationWarning: int_from_bytes is deprecated, use int.from_bytes instead\n  from cryptography.utils import int_from_bytes\nCollecting bs4\n  Downloading bs4-0.0.1.tar.gz (1.1 kB)\nRequirement already satisfied: beautifulsoup4 in /opt/conda/envs/Python-3.7-main/lib/python3.7/site-packages (from bs4) (4.9.1)\nRequirement already satisfied: soupsieve>1.2 in /opt/conda/envs/Python-3.7-main/lib/python3.7/site-packages (from beautifulsoup4->bs4) (2.0.1)\nBuilding wheels for collected packages: bs4\n  Building wheel for bs4 (setup.py) ... \u001b[?25ldone\n\u001b[?25h  Created wheel for bs4: filename=bs4-0.0.1-py3-none-any.whl size=1272 sha256=646bf3ddb8849bc223c8ab5918373ed731d4ee3f2d1d9f2e89c2c422fbc7ca81\n  Stored in directory: /tmp/wsuser/.cache/pip/wheels/0a/9e/ba/20e5bbc1afef3a491f0b3bb74d508f99403aabe76eda2167ca\nSuccessfully built bs4\nInstalling collected packages: bs4\nSuccessfully installed bs4-0.0.1\n",
                    "name": "stdout"
                }
            ]
        },
        {
            "metadata": {},
            "cell_type": "code",
            "source": "import pandas as pd\nimport requests\nfrom bs4 import BeautifulSoup",
            "execution_count": 2,
            "outputs": []
        },
        {
            "metadata": {},
            "cell_type": "markdown",
            "source": "## Using Webscraping to Extract Stock Data\n"
        },
        {
            "metadata": {},
            "cell_type": "markdown",
            "source": "Use the `requests` library to download the webpage https://finance.yahoo.com/quote/AMZN/history?period1=1451606400\\&period2=1612137600\\&interval=1mo\\&filter=history\\&frequency=1mo\\&includeAdjustedClose=true. Save the text of the response as a variable named `html_data`.\n"
        },
        {
            "metadata": {},
            "cell_type": "code",
            "source": "html_data = requests.get('https://finance.yahoo.com/quote/AMZN/history?period1=1464912000&period2=1622592000&interval=1mo&filter=history&frequency=1mo&includeAdjustedClose=true')",
            "execution_count": 68,
            "outputs": []
        },
        {
            "metadata": {},
            "cell_type": "markdown",
            "source": "Parse the html data using `beautiful_soup`.\n"
        },
        {
            "metadata": {},
            "cell_type": "code",
            "source": "soup = BeautifulSoup(html_data.text)",
            "execution_count": 69,
            "outputs": []
        },
        {
            "metadata": {},
            "cell_type": "markdown",
            "source": "<b>Question 1</b> what is the content of the title attribute:\n"
        },
        {
            "metadata": {},
            "cell_type": "code",
            "source": "title = soup.find('title')\ntitle",
            "execution_count": 105,
            "outputs": [
                {
                    "output_type": "execute_result",
                    "execution_count": 105,
                    "data": {
                        "text/plain": "<title>Amazon.com, Inc. (AMZN) Stock Historical Prices &amp; Data - Yahoo Finance</title>"
                    },
                    "metadata": {}
                }
            ]
        },
        {
            "metadata": {},
            "cell_type": "markdown",
            "source": "Using beautiful soup extract the table with historical share prices and store it into a dataframe named `amazon_data`. The dataframe should have columns Date, Open, High, Low, Close, Adj Close, and Volume. Fill in each variable with the correct data from the list `col`.\n\nHint: Print the `col` list to see what data to use\n"
        },
        {
            "metadata": {},
            "cell_type": "code",
            "source": "amazon_data = pd.DataFrame(columns=[\"Date\", \"Open\", \"High\", \"Low\", \"Close\", \"Adj Close\", \"Volume\"])\n\nfor row in soup.find(\"tbody\").find_all(\"tr\"):\n    col = row.find_all(\"td\")\n    date =col[0].text\n    Open =col[1].text\n    high =col[2].text\n    low =col[3].text\n    close =col[4].text\n    adj_close =col[5].text\n    volume =col[6].text\n    amazon_data = amazon_data.append({\"Date\":date, \"Open\":Open, \"High\":high, \"Low\":low, \"Close\":close, \"Adj Close\":adj_close, \"Volume\":volume}, ignore_index=True)\n",
            "execution_count": 77,
            "outputs": []
        },
        {
            "metadata": {},
            "cell_type": "markdown",
            "source": "Print out the first five rows of the `amazon_data` dataframe you created.\n"
        },
        {
            "metadata": {},
            "cell_type": "code",
            "source": "amazon_data.head()",
            "execution_count": 78,
            "outputs": [
                {
                    "output_type": "execute_result",
                    "execution_count": 78,
                    "data": {
                        "text/plain": "           Date      Open      High       Low     Close Adj Close      Volume\n0  Jun 01, 2021  3,243.50  3,250.98  3,209.06  3,218.65  3,218.65   2,423,500\n1  May 01, 2021  3,484.73  3,486.65  3,127.37  3,223.07  3,223.07  75,176,800\n2  Apr 01, 2021  3,117.94  3,554.00  3,115.55  3,467.42  3,467.42  76,832,100\n3  Mar 01, 2021  3,127.89  3,182.00  2,881.00  3,094.08  3,094.08  78,188,000\n4  Feb 01, 2021  3,242.36  3,434.00  3,036.70  3,092.93  3,092.93  72,107,000",
                        "text/html": "<div>\n<style scoped>\n    .dataframe tbody tr th:only-of-type {\n        vertical-align: middle;\n    }\n\n    .dataframe tbody tr th {\n        vertical-align: top;\n    }\n\n    .dataframe thead th {\n        text-align: right;\n    }\n</style>\n<table border=\"1\" class=\"dataframe\">\n  <thead>\n    <tr style=\"text-align: right;\">\n      <th></th>\n      <th>Date</th>\n      <th>Open</th>\n      <th>High</th>\n      <th>Low</th>\n      <th>Close</th>\n      <th>Adj Close</th>\n      <th>Volume</th>\n    </tr>\n  </thead>\n  <tbody>\n    <tr>\n      <th>0</th>\n      <td>Jun 01, 2021</td>\n      <td>3,243.50</td>\n      <td>3,250.98</td>\n      <td>3,209.06</td>\n      <td>3,218.65</td>\n      <td>3,218.65</td>\n      <td>2,423,500</td>\n    </tr>\n    <tr>\n      <th>1</th>\n      <td>May 01, 2021</td>\n      <td>3,484.73</td>\n      <td>3,486.65</td>\n      <td>3,127.37</td>\n      <td>3,223.07</td>\n      <td>3,223.07</td>\n      <td>75,176,800</td>\n    </tr>\n    <tr>\n      <th>2</th>\n      <td>Apr 01, 2021</td>\n      <td>3,117.94</td>\n      <td>3,554.00</td>\n      <td>3,115.55</td>\n      <td>3,467.42</td>\n      <td>3,467.42</td>\n      <td>76,832,100</td>\n    </tr>\n    <tr>\n      <th>3</th>\n      <td>Mar 01, 2021</td>\n      <td>3,127.89</td>\n      <td>3,182.00</td>\n      <td>2,881.00</td>\n      <td>3,094.08</td>\n      <td>3,094.08</td>\n      <td>78,188,000</td>\n    </tr>\n    <tr>\n      <th>4</th>\n      <td>Feb 01, 2021</td>\n      <td>3,242.36</td>\n      <td>3,434.00</td>\n      <td>3,036.70</td>\n      <td>3,092.93</td>\n      <td>3,092.93</td>\n      <td>72,107,000</td>\n    </tr>\n  </tbody>\n</table>\n</div>"
                    },
                    "metadata": {}
                }
            ]
        },
        {
            "metadata": {},
            "cell_type": "markdown",
            "source": "<b>Question 2</b> What is the name of the columns of the dataframe\n"
        },
        {
            "metadata": {},
            "cell_type": "code",
            "source": "list(amazon_data.columns)",
            "execution_count": 89,
            "outputs": [
                {
                    "output_type": "execute_result",
                    "execution_count": 89,
                    "data": {
                        "text/plain": "['Date', 'Open', 'High', 'Low', 'Close', 'Adj Close', 'Volume']"
                    },
                    "metadata": {}
                }
            ]
        },
        {
            "metadata": {},
            "cell_type": "markdown",
            "source": "<b>Question 3</b> What is the `Open` of `Jun 01, 2019` of the dataframe?\n"
        },
        {
            "metadata": {},
            "cell_type": "code",
            "source": "amazon_data.loc[(amazon_data['Date'] == 'Jun 01, 2019'), 'Open']",
            "execution_count": 104,
            "outputs": [
                {
                    "output_type": "execute_result",
                    "execution_count": 104,
                    "data": {
                        "text/plain": "24    1,760.01\nName: Open, dtype: object"
                    },
                    "metadata": {}
                }
            ]
        },
        {
            "metadata": {},
            "cell_type": "markdown",
            "source": "<h2>About the Authors:</h2> \n\n<a href=\"https://www.linkedin.com/in/joseph-s-50398b136/?utm_medium=Exinfluencer&utm_source=Exinfluencer&utm_content=000026UJ&utm_term=10006555&utm_id=NA-SkillsNetwork-Channel-SkillsNetworkCoursesIBMDeveloperSkillsNetworkPY0220ENSkillsNetwork23455606-2021-01-01\">Joseph Santarcangelo</a> has a PhD in Electrical Engineering, his research focused on using machine learning, signal processing, and computer vision to determine how videos impact human cognition. Joseph has been working for IBM since he completed his PhD.\n\nAzim Hirjani\n"
        },
        {
            "metadata": {},
            "cell_type": "markdown",
            "source": "## Change Log\n\n| Date (YYYY-MM-DD) | Version | Changed By    | Change Description        |\n| ----------------- | ------- | ------------- | ------------------------- |\n| 2020-11-10        | 1.1     | Malika Singla | Deleted the Optional part |\n| 2020-08-27        | 1.0     | Malika Singla | Added lab to GitLab       |\n\n<hr>\n\n## <h3 align=\"center\"> \u00a9 IBM Corporation 2020. All rights reserved. <h3/>\n\n<p>\n"
        }
    ],
    "metadata": {
        "kernelspec": {
            "name": "python3",
            "display_name": "Python 3.7",
            "language": "python"
        },
        "language_info": {
            "name": "python",
            "version": "3.7.10",
            "mimetype": "text/x-python",
            "codemirror_mode": {
                "name": "ipython",
                "version": 3
            },
            "pygments_lexer": "ipython3",
            "nbconvert_exporter": "python",
            "file_extension": ".py"
        }
    },
    "nbformat": 4,
    "nbformat_minor": 4
}